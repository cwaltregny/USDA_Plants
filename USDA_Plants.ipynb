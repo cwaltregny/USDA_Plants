{
 "cells": [
  {
   "cell_type": "markdown",
   "metadata": {},
   "source": [
    "# USDA Plants clustering\n",
    "\n",
    "## Problem description\n",
    "\n",
    "The USDA Plants database provides standardized information about the vascular plants, mosses, liverworts, hornworts, and lichens of the U.S. and its territories. \n",
    "\n",
    "The dataset is composed of 34781 instances of plants names, associated with the states names where they can be found in. The dataset can be found [here](https://archive.ics.uci.edu/ml/datasets/Plants) and is taken from -- _USDA, NRCS. 2008. The PLANTS Database (31 December 2008). National Plant Data Center, Baton Rouge, LA 70874-4490 USA._ --\n",
    "\n",
    "The goal of this project will be to cluster the plants based on the regions where they are present; we are in an unsupervised learning scenario."
   ]
  },
  {
   "cell_type": "code",
   "execution_count": 1,
   "metadata": {},
   "outputs": [],
   "source": [
    "#Let's import the necessary libraries\n",
    "import pandas as pd\n",
    "import numpy as np\n",
    "import matplotlib.pyplot as plt\n",
    "import seaborn as sns\n",
    "from sklearn.model_selection import cross_val_score, train_test_split\n",
    "from sklearn.decomposition import PCA\n",
    "from sklearn.preprocessing import StandardScaler\n",
    "from sklearn import linear_model\n",
    "from sklearn.model_selection import cross_val_predict"
   ]
  },
  {
   "cell_type": "code",
   "execution_count": 2,
   "metadata": {},
   "outputs": [],
   "source": [
    "#Create 70 columns to store the states names later\n",
    "names = []\n",
    "for i in range(70):\n",
    "    names.append(i)\n",
    "names = list(names)    "
   ]
  },
  {
   "cell_type": "code",
   "execution_count": 3,
   "metadata": {},
   "outputs": [
    {
     "name": "stderr",
     "output_type": "stream",
     "text": [
      "/Users/charlottewaltregny/anaconda3/lib/python3.7/site-packages/IPython/core/interactiveshell.py:3057: DtypeWarning: Columns (69) have mixed types. Specify dtype option on import or set low_memory=False.\n",
      "  interactivity=interactivity, compiler=compiler, result=result)\n"
     ]
    }
   ],
   "source": [
    "#Load the dataset precising the number of columns so that it avoids creating the number of columns based on the first row\n",
    "df = pd.read_csv('Plants/plants.data', names=names, encoding = \"ISO-8859-1\")"
   ]
  },
  {
   "cell_type": "code",
   "execution_count": 4,
   "metadata": {},
   "outputs": [],
   "source": [
    "#We store the plants names in an array and we create a dataframe only containing the states information\n",
    "plants = df[0]\n",
    "states = df.loc[:,1:]"
   ]
  },
  {
   "cell_type": "code",
   "execution_count": 5,
   "metadata": {},
   "outputs": [
    {
     "data": {
      "text/html": [
       "<div>\n",
       "<style scoped>\n",
       "    .dataframe tbody tr th:only-of-type {\n",
       "        vertical-align: middle;\n",
       "    }\n",
       "\n",
       "    .dataframe tbody tr th {\n",
       "        vertical-align: top;\n",
       "    }\n",
       "\n",
       "    .dataframe thead th {\n",
       "        text-align: right;\n",
       "    }\n",
       "</style>\n",
       "<table border=\"1\" class=\"dataframe\">\n",
       "  <thead>\n",
       "    <tr style=\"text-align: right;\">\n",
       "      <th></th>\n",
       "      <th>1</th>\n",
       "      <th>2</th>\n",
       "      <th>3</th>\n",
       "      <th>4</th>\n",
       "      <th>5</th>\n",
       "      <th>6</th>\n",
       "      <th>7</th>\n",
       "      <th>8</th>\n",
       "      <th>9</th>\n",
       "      <th>10</th>\n",
       "      <th>...</th>\n",
       "      <th>60</th>\n",
       "      <th>61</th>\n",
       "      <th>62</th>\n",
       "      <th>63</th>\n",
       "      <th>64</th>\n",
       "      <th>65</th>\n",
       "      <th>66</th>\n",
       "      <th>67</th>\n",
       "      <th>68</th>\n",
       "      <th>69</th>\n",
       "    </tr>\n",
       "  </thead>\n",
       "  <tbody>\n",
       "    <tr>\n",
       "      <th>0</th>\n",
       "      <td>fl</td>\n",
       "      <td>nc</td>\n",
       "      <td>NaN</td>\n",
       "      <td>NaN</td>\n",
       "      <td>NaN</td>\n",
       "      <td>NaN</td>\n",
       "      <td>NaN</td>\n",
       "      <td>NaN</td>\n",
       "      <td>NaN</td>\n",
       "      <td>NaN</td>\n",
       "      <td>...</td>\n",
       "      <td>NaN</td>\n",
       "      <td>NaN</td>\n",
       "      <td>NaN</td>\n",
       "      <td>NaN</td>\n",
       "      <td>NaN</td>\n",
       "      <td>NaN</td>\n",
       "      <td>NaN</td>\n",
       "      <td>NaN</td>\n",
       "      <td>NaN</td>\n",
       "      <td>NaN</td>\n",
       "    </tr>\n",
       "    <tr>\n",
       "      <th>1</th>\n",
       "      <td>fl</td>\n",
       "      <td>nc</td>\n",
       "      <td>NaN</td>\n",
       "      <td>NaN</td>\n",
       "      <td>NaN</td>\n",
       "      <td>NaN</td>\n",
       "      <td>NaN</td>\n",
       "      <td>NaN</td>\n",
       "      <td>NaN</td>\n",
       "      <td>NaN</td>\n",
       "      <td>...</td>\n",
       "      <td>NaN</td>\n",
       "      <td>NaN</td>\n",
       "      <td>NaN</td>\n",
       "      <td>NaN</td>\n",
       "      <td>NaN</td>\n",
       "      <td>NaN</td>\n",
       "      <td>NaN</td>\n",
       "      <td>NaN</td>\n",
       "      <td>NaN</td>\n",
       "      <td>NaN</td>\n",
       "    </tr>\n",
       "    <tr>\n",
       "      <th>2</th>\n",
       "      <td>ct</td>\n",
       "      <td>dc</td>\n",
       "      <td>fl</td>\n",
       "      <td>hi</td>\n",
       "      <td>il</td>\n",
       "      <td>ky</td>\n",
       "      <td>la</td>\n",
       "      <td>md</td>\n",
       "      <td>mi</td>\n",
       "      <td>ms</td>\n",
       "      <td>...</td>\n",
       "      <td>NaN</td>\n",
       "      <td>NaN</td>\n",
       "      <td>NaN</td>\n",
       "      <td>NaN</td>\n",
       "      <td>NaN</td>\n",
       "      <td>NaN</td>\n",
       "      <td>NaN</td>\n",
       "      <td>NaN</td>\n",
       "      <td>NaN</td>\n",
       "      <td>NaN</td>\n",
       "    </tr>\n",
       "    <tr>\n",
       "      <th>3</th>\n",
       "      <td>ct</td>\n",
       "      <td>dc</td>\n",
       "      <td>fl</td>\n",
       "      <td>il</td>\n",
       "      <td>ky</td>\n",
       "      <td>la</td>\n",
       "      <td>md</td>\n",
       "      <td>mi</td>\n",
       "      <td>ms</td>\n",
       "      <td>nc</td>\n",
       "      <td>...</td>\n",
       "      <td>NaN</td>\n",
       "      <td>NaN</td>\n",
       "      <td>NaN</td>\n",
       "      <td>NaN</td>\n",
       "      <td>NaN</td>\n",
       "      <td>NaN</td>\n",
       "      <td>NaN</td>\n",
       "      <td>NaN</td>\n",
       "      <td>NaN</td>\n",
       "      <td>NaN</td>\n",
       "    </tr>\n",
       "    <tr>\n",
       "      <th>4</th>\n",
       "      <td>hi</td>\n",
       "      <td>pr</td>\n",
       "      <td>NaN</td>\n",
       "      <td>NaN</td>\n",
       "      <td>NaN</td>\n",
       "      <td>NaN</td>\n",
       "      <td>NaN</td>\n",
       "      <td>NaN</td>\n",
       "      <td>NaN</td>\n",
       "      <td>NaN</td>\n",
       "      <td>...</td>\n",
       "      <td>NaN</td>\n",
       "      <td>NaN</td>\n",
       "      <td>NaN</td>\n",
       "      <td>NaN</td>\n",
       "      <td>NaN</td>\n",
       "      <td>NaN</td>\n",
       "      <td>NaN</td>\n",
       "      <td>NaN</td>\n",
       "      <td>NaN</td>\n",
       "      <td>NaN</td>\n",
       "    </tr>\n",
       "  </tbody>\n",
       "</table>\n",
       "<p>5 rows × 69 columns</p>\n",
       "</div>"
      ],
      "text/plain": [
       "   1   2    3    4    5    6    7    8    9    10  ...   60   61   62   63  \\\n",
       "0  fl  nc  NaN  NaN  NaN  NaN  NaN  NaN  NaN  NaN  ...  NaN  NaN  NaN  NaN   \n",
       "1  fl  nc  NaN  NaN  NaN  NaN  NaN  NaN  NaN  NaN  ...  NaN  NaN  NaN  NaN   \n",
       "2  ct  dc   fl   hi   il   ky   la   md   mi   ms  ...  NaN  NaN  NaN  NaN   \n",
       "3  ct  dc   fl   il   ky   la   md   mi   ms   nc  ...  NaN  NaN  NaN  NaN   \n",
       "4  hi  pr  NaN  NaN  NaN  NaN  NaN  NaN  NaN  NaN  ...  NaN  NaN  NaN  NaN   \n",
       "\n",
       "    64   65   66   67   68   69  \n",
       "0  NaN  NaN  NaN  NaN  NaN  NaN  \n",
       "1  NaN  NaN  NaN  NaN  NaN  NaN  \n",
       "2  NaN  NaN  NaN  NaN  NaN  NaN  \n",
       "3  NaN  NaN  NaN  NaN  NaN  NaN  \n",
       "4  NaN  NaN  NaN  NaN  NaN  NaN  \n",
       "\n",
       "[5 rows x 69 columns]"
      ]
     },
     "execution_count": 5,
     "metadata": {},
     "output_type": "execute_result"
    }
   ],
   "source": [
    "states.head()"
   ]
  },
  {
   "cell_type": "markdown",
   "metadata": {},
   "source": [
    "## Data analysis and preparation\n",
    "\n",
    "We see that we need to do some transformation in order to be able to retrieve information from this dataset. We see that a lot of plants are only present in a few states, and very few plants are present in the 69 states. Let's first create an array with the states names by looking at the hits where the 69th column is filled."
   ]
  },
  {
   "cell_type": "code",
   "execution_count": 6,
   "metadata": {},
   "outputs": [
    {
     "data": {
      "text/html": [
       "<div>\n",
       "<style scoped>\n",
       "    .dataframe tbody tr th:only-of-type {\n",
       "        vertical-align: middle;\n",
       "    }\n",
       "\n",
       "    .dataframe tbody tr th {\n",
       "        vertical-align: top;\n",
       "    }\n",
       "\n",
       "    .dataframe thead th {\n",
       "        text-align: right;\n",
       "    }\n",
       "</style>\n",
       "<table border=\"1\" class=\"dataframe\">\n",
       "  <thead>\n",
       "    <tr style=\"text-align: right;\">\n",
       "      <th></th>\n",
       "      <th>0</th>\n",
       "      <th>1</th>\n",
       "      <th>2</th>\n",
       "      <th>3</th>\n",
       "      <th>4</th>\n",
       "      <th>5</th>\n",
       "      <th>6</th>\n",
       "      <th>7</th>\n",
       "      <th>8</th>\n",
       "      <th>9</th>\n",
       "      <th>...</th>\n",
       "      <th>60</th>\n",
       "      <th>61</th>\n",
       "      <th>62</th>\n",
       "      <th>63</th>\n",
       "      <th>64</th>\n",
       "      <th>65</th>\n",
       "      <th>66</th>\n",
       "      <th>67</th>\n",
       "      <th>68</th>\n",
       "      <th>69</th>\n",
       "    </tr>\n",
       "  </thead>\n",
       "  <tbody>\n",
       "    <tr>\n",
       "      <th>11724</th>\n",
       "      <td>eleocharis</td>\n",
       "      <td>al</td>\n",
       "      <td>ak</td>\n",
       "      <td>az</td>\n",
       "      <td>ar</td>\n",
       "      <td>ca</td>\n",
       "      <td>co</td>\n",
       "      <td>ct</td>\n",
       "      <td>de</td>\n",
       "      <td>dc</td>\n",
       "      <td>...</td>\n",
       "      <td>nt</td>\n",
       "      <td>ns</td>\n",
       "      <td>nu</td>\n",
       "      <td>on</td>\n",
       "      <td>pe</td>\n",
       "      <td>qc</td>\n",
       "      <td>sk</td>\n",
       "      <td>yt</td>\n",
       "      <td>dengl</td>\n",
       "      <td>fraspm</td>\n",
       "    </tr>\n",
       "    <tr>\n",
       "      <th>12372</th>\n",
       "      <td>erigeron</td>\n",
       "      <td>al</td>\n",
       "      <td>ak</td>\n",
       "      <td>az</td>\n",
       "      <td>ar</td>\n",
       "      <td>ca</td>\n",
       "      <td>co</td>\n",
       "      <td>ct</td>\n",
       "      <td>de</td>\n",
       "      <td>dc</td>\n",
       "      <td>...</td>\n",
       "      <td>nt</td>\n",
       "      <td>ns</td>\n",
       "      <td>nu</td>\n",
       "      <td>on</td>\n",
       "      <td>pe</td>\n",
       "      <td>qc</td>\n",
       "      <td>sk</td>\n",
       "      <td>yt</td>\n",
       "      <td>dengl</td>\n",
       "      <td>fraspm</td>\n",
       "    </tr>\n",
       "    <tr>\n",
       "      <th>25582</th>\n",
       "      <td>plantago</td>\n",
       "      <td>al</td>\n",
       "      <td>ak</td>\n",
       "      <td>az</td>\n",
       "      <td>ar</td>\n",
       "      <td>ca</td>\n",
       "      <td>co</td>\n",
       "      <td>ct</td>\n",
       "      <td>de</td>\n",
       "      <td>dc</td>\n",
       "      <td>...</td>\n",
       "      <td>nt</td>\n",
       "      <td>ns</td>\n",
       "      <td>nu</td>\n",
       "      <td>on</td>\n",
       "      <td>pe</td>\n",
       "      <td>qc</td>\n",
       "      <td>sk</td>\n",
       "      <td>yt</td>\n",
       "      <td>dengl</td>\n",
       "      <td>fraspm</td>\n",
       "    </tr>\n",
       "    <tr>\n",
       "      <th>26125</th>\n",
       "      <td>polygonum</td>\n",
       "      <td>al</td>\n",
       "      <td>ak</td>\n",
       "      <td>az</td>\n",
       "      <td>ar</td>\n",
       "      <td>ca</td>\n",
       "      <td>co</td>\n",
       "      <td>ct</td>\n",
       "      <td>de</td>\n",
       "      <td>dc</td>\n",
       "      <td>...</td>\n",
       "      <td>nt</td>\n",
       "      <td>ns</td>\n",
       "      <td>nu</td>\n",
       "      <td>on</td>\n",
       "      <td>pe</td>\n",
       "      <td>qc</td>\n",
       "      <td>sk</td>\n",
       "      <td>yt</td>\n",
       "      <td>dengl</td>\n",
       "      <td>fraspm</td>\n",
       "    </tr>\n",
       "  </tbody>\n",
       "</table>\n",
       "<p>4 rows × 70 columns</p>\n",
       "</div>"
      ],
      "text/plain": [
       "               0   1   2   3   4   5   6   7   8   9   ...  60  61  62  63  \\\n",
       "11724  eleocharis  al  ak  az  ar  ca  co  ct  de  dc  ...  nt  ns  nu  on   \n",
       "12372    erigeron  al  ak  az  ar  ca  co  ct  de  dc  ...  nt  ns  nu  on   \n",
       "25582    plantago  al  ak  az  ar  ca  co  ct  de  dc  ...  nt  ns  nu  on   \n",
       "26125   polygonum  al  ak  az  ar  ca  co  ct  de  dc  ...  nt  ns  nu  on   \n",
       "\n",
       "       64  65  66  67     68      69  \n",
       "11724  pe  qc  sk  yt  dengl  fraspm  \n",
       "12372  pe  qc  sk  yt  dengl  fraspm  \n",
       "25582  pe  qc  sk  yt  dengl  fraspm  \n",
       "26125  pe  qc  sk  yt  dengl  fraspm  \n",
       "\n",
       "[4 rows x 70 columns]"
      ]
     },
     "execution_count": 6,
     "metadata": {},
     "output_type": "execute_result"
    }
   ],
   "source": [
    "df[df[69].notnull()]"
   ]
  },
  {
   "cell_type": "markdown",
   "metadata": {},
   "source": [
    "Indeed, we only have 4 plants presents in the 69 states. Let's retrieve the names of the states."
   ]
  },
  {
   "cell_type": "code",
   "execution_count": 7,
   "metadata": {},
   "outputs": [],
   "source": [
    "names = states.iloc[11724].values"
   ]
  },
  {
   "cell_type": "code",
   "execution_count": 8,
   "metadata": {},
   "outputs": [
    {
     "data": {
      "text/plain": [
       "array(['al', 'ak', 'az', 'ar', 'ca', 'co', 'ct', 'de', 'dc', 'fl', 'ga',\n",
       "       'hi', 'id', 'il', 'in', 'ia', 'ks', 'ky', 'la', 'me', 'md', 'ma',\n",
       "       'mi', 'mn', 'ms', 'mo', 'mt', 'ne', 'nv', 'nh', 'nj', 'nm', 'ny',\n",
       "       'nc', 'nd', 'oh', 'ok', 'or', 'pa', 'ri', 'sc', 'sd', 'tn', 'tx',\n",
       "       'ut', 'vt', 'va', 'wa', 'wv', 'wi', 'wy', 'pr', 'vi', 'ab', 'bc',\n",
       "       'lb', 'mb', 'nb', 'nf', 'nt', 'ns', 'nu', 'on', 'pe', 'qc', 'sk',\n",
       "       'yt', 'dengl', 'fraspm'], dtype=object)"
      ]
     },
     "execution_count": 8,
     "metadata": {},
     "output_type": "execute_result"
    }
   ],
   "source": [
    "names"
   ]
  },
  {
   "cell_type": "markdown",
   "metadata": {},
   "source": [
    "Now, how are we going to transform this dataset to be able to use it? One idea is to make the 69 columns the states names in the alphabetical order, go through each row and replace by 1s the cells where the plant is found in the states (corresponding column) and by 0s the cells where the plant is not. Let's do that."
   ]
  },
  {
   "cell_type": "code",
   "execution_count": 9,
   "metadata": {},
   "outputs": [],
   "source": [
    "#Store the indexes in the range 34781 in an array and each element of each row in another one\n",
    "indexes = []\n",
    "elements = []\n",
    "for index,row in states.iterrows():\n",
    "    indexes.append(index)\n",
    "    elements.append([])\n",
    "    for element in row.values:\n",
    "        elements[index].append(element)"
   ]
  },
  {
   "cell_type": "code",
   "execution_count": 10,
   "metadata": {},
   "outputs": [],
   "source": [
    "#Create a dictionary with the values corresponding to the column number\n",
    "dic = {'al':0, 'ak':1, 'az':2, 'ar':3, 'ca':4, 'co':5, 'ct':6, 'de':7, 'dc':8, 'fl':9, 'ga':10,\n",
    "       'hi':11, 'id':12, 'il':13, 'in':14, 'ia':15, 'ks':16, 'ky':17, 'la':18, 'me':19, 'md':20, 'ma':21,\n",
    "       'mi':22, 'mn':23, 'ms':24, 'mo':25, 'mt':26, 'ne':27, 'nv':28, 'nh':29, 'nj':30, 'nm':31, 'ny':32,\n",
    "       'nc':33, 'nd':34, 'oh':35, 'ok':36, 'or':37, 'pa':38, 'ri':39, 'sc':40, 'sd':41, 'tn':42, 'tx':43,\n",
    "       'ut':44, 'vt':45, 'va':46, 'wa':47, 'wv':48, 'wi':49, 'wy':50, 'pr':51, 'vi':52, 'ab':53, 'bc':54,\n",
    "       'lb':55, 'mb':56, 'nb':57, 'nf':58, 'nt':59, 'ns':60, 'nu':61, 'on':62, 'pe':63, 'qc':64, 'sk':65,\n",
    "       'yt':66, 'dengl':67, 'fraspm':68}"
   ]
  },
  {
   "cell_type": "code",
   "execution_count": 11,
   "metadata": {},
   "outputs": [],
   "source": [
    "#Check which index are going to be filled with 1\n",
    "value_index = []\n",
    "for index in indexes:\n",
    "    value_index.append([])\n",
    "    for element in elements[index]:\n",
    "        if element in names:\n",
    "            value_index[index].append(dic[element])"
   ]
  },
  {
   "cell_type": "code",
   "execution_count": 12,
   "metadata": {},
   "outputs": [],
   "source": [
    "#Fill everything with 0 and replace by 1 where value_index indicates it\n",
    "ones_zeros={}\n",
    "for index in indexes:\n",
    "    for i in range(69):\n",
    "        ones_zeros[index,i]=0\n",
    "for index in indexes:\n",
    "    for val in value_index[index]:\n",
    "            ones_zeros[index,val]=1    "
   ]
  },
  {
   "cell_type": "code",
   "execution_count": 13,
   "metadata": {},
   "outputs": [],
   "source": [
    "#Transform the list to an array to make it usable\n",
    "X_list=[]\n",
    "for (key1,key2),value in ones_zeros.items():\n",
    "    temp = [key1,value]\n",
    "    X_list.append([])\n",
    "    X_list[key1].append(value)"
   ]
  },
  {
   "cell_type": "code",
   "execution_count": 14,
   "metadata": {},
   "outputs": [],
   "source": [
    "#Transform it to a dataframe to clean it more easily\n",
    "df_list=pd.DataFrame(X_list)\n",
    "#Necessary, because when transforming to a list, a lot of unnecessary fields where created\n",
    "df_list = df_list.dropna(how='all')"
   ]
  },
  {
   "cell_type": "markdown",
   "metadata": {},
   "source": [
    "Did it create what we wanted? Let's check the first row.  "
   ]
  },
  {
   "cell_type": "code",
   "execution_count": 15,
   "metadata": {},
   "outputs": [
    {
     "data": {
      "text/html": [
       "<div>\n",
       "<style scoped>\n",
       "    .dataframe tbody tr th:only-of-type {\n",
       "        vertical-align: middle;\n",
       "    }\n",
       "\n",
       "    .dataframe tbody tr th {\n",
       "        vertical-align: top;\n",
       "    }\n",
       "\n",
       "    .dataframe thead th {\n",
       "        text-align: right;\n",
       "    }\n",
       "</style>\n",
       "<table border=\"1\" class=\"dataframe\">\n",
       "  <thead>\n",
       "    <tr style=\"text-align: right;\">\n",
       "      <th></th>\n",
       "      <th>1</th>\n",
       "      <th>2</th>\n",
       "      <th>3</th>\n",
       "      <th>4</th>\n",
       "      <th>5</th>\n",
       "      <th>6</th>\n",
       "      <th>7</th>\n",
       "      <th>8</th>\n",
       "      <th>9</th>\n",
       "      <th>10</th>\n",
       "      <th>...</th>\n",
       "      <th>60</th>\n",
       "      <th>61</th>\n",
       "      <th>62</th>\n",
       "      <th>63</th>\n",
       "      <th>64</th>\n",
       "      <th>65</th>\n",
       "      <th>66</th>\n",
       "      <th>67</th>\n",
       "      <th>68</th>\n",
       "      <th>69</th>\n",
       "    </tr>\n",
       "  </thead>\n",
       "  <tbody>\n",
       "    <tr>\n",
       "      <th>0</th>\n",
       "      <td>fl</td>\n",
       "      <td>nc</td>\n",
       "      <td>NaN</td>\n",
       "      <td>NaN</td>\n",
       "      <td>NaN</td>\n",
       "      <td>NaN</td>\n",
       "      <td>NaN</td>\n",
       "      <td>NaN</td>\n",
       "      <td>NaN</td>\n",
       "      <td>NaN</td>\n",
       "      <td>...</td>\n",
       "      <td>NaN</td>\n",
       "      <td>NaN</td>\n",
       "      <td>NaN</td>\n",
       "      <td>NaN</td>\n",
       "      <td>NaN</td>\n",
       "      <td>NaN</td>\n",
       "      <td>NaN</td>\n",
       "      <td>NaN</td>\n",
       "      <td>NaN</td>\n",
       "      <td>NaN</td>\n",
       "    </tr>\n",
       "  </tbody>\n",
       "</table>\n",
       "<p>1 rows × 69 columns</p>\n",
       "</div>"
      ],
      "text/plain": [
       "   1   2    3    4    5    6    7    8    9    10  ...   60   61   62   63  \\\n",
       "0  fl  nc  NaN  NaN  NaN  NaN  NaN  NaN  NaN  NaN  ...  NaN  NaN  NaN  NaN   \n",
       "\n",
       "    64   65   66   67   68   69  \n",
       "0  NaN  NaN  NaN  NaN  NaN  NaN  \n",
       "\n",
       "[1 rows x 69 columns]"
      ]
     },
     "execution_count": 15,
     "metadata": {},
     "output_type": "execute_result"
    }
   ],
   "source": [
    "states.head(1)"
   ]
  },
  {
   "cell_type": "code",
   "execution_count": 16,
   "metadata": {},
   "outputs": [
    {
     "name": "stdout",
     "output_type": "stream",
     "text": [
      "Position of the elements to fill with 1:  9 , 33\n"
     ]
    }
   ],
   "source": [
    "print('Position of the elements to fill with 1: ', dic['fl'],',', dic['nc'])"
   ]
  },
  {
   "cell_type": "markdown",
   "metadata": {},
   "source": [
    "We are supposed to have '1' at position 9 in our array (corresponding to 'fl'), then '1' at position 33 (corresponding to 'nc') then only '0' for all the other columns.  "
   ]
  },
  {
   "cell_type": "code",
   "execution_count": 17,
   "metadata": {},
   "outputs": [
    {
     "data": {
      "text/html": [
       "<div>\n",
       "<style scoped>\n",
       "    .dataframe tbody tr th:only-of-type {\n",
       "        vertical-align: middle;\n",
       "    }\n",
       "\n",
       "    .dataframe tbody tr th {\n",
       "        vertical-align: top;\n",
       "    }\n",
       "\n",
       "    .dataframe thead th {\n",
       "        text-align: right;\n",
       "    }\n",
       "</style>\n",
       "<table border=\"1\" class=\"dataframe\">\n",
       "  <thead>\n",
       "    <tr style=\"text-align: right;\">\n",
       "      <th></th>\n",
       "      <th>0</th>\n",
       "      <th>1</th>\n",
       "      <th>2</th>\n",
       "      <th>3</th>\n",
       "      <th>4</th>\n",
       "      <th>5</th>\n",
       "      <th>6</th>\n",
       "      <th>7</th>\n",
       "      <th>8</th>\n",
       "      <th>9</th>\n",
       "      <th>...</th>\n",
       "      <th>59</th>\n",
       "      <th>60</th>\n",
       "      <th>61</th>\n",
       "      <th>62</th>\n",
       "      <th>63</th>\n",
       "      <th>64</th>\n",
       "      <th>65</th>\n",
       "      <th>66</th>\n",
       "      <th>67</th>\n",
       "      <th>68</th>\n",
       "    </tr>\n",
       "  </thead>\n",
       "  <tbody>\n",
       "    <tr>\n",
       "      <th>0</th>\n",
       "      <td>0.0</td>\n",
       "      <td>0.0</td>\n",
       "      <td>0.0</td>\n",
       "      <td>0.0</td>\n",
       "      <td>0.0</td>\n",
       "      <td>0.0</td>\n",
       "      <td>0.0</td>\n",
       "      <td>0.0</td>\n",
       "      <td>0.0</td>\n",
       "      <td>1.0</td>\n",
       "      <td>...</td>\n",
       "      <td>0.0</td>\n",
       "      <td>0.0</td>\n",
       "      <td>0.0</td>\n",
       "      <td>0.0</td>\n",
       "      <td>0.0</td>\n",
       "      <td>0.0</td>\n",
       "      <td>0.0</td>\n",
       "      <td>0.0</td>\n",
       "      <td>0.0</td>\n",
       "      <td>0.0</td>\n",
       "    </tr>\n",
       "  </tbody>\n",
       "</table>\n",
       "<p>1 rows × 69 columns</p>\n",
       "</div>"
      ],
      "text/plain": [
       "    0    1    2    3    4    5    6    7    8    9   ...   59   60   61   62  \\\n",
       "0  0.0  0.0  0.0  0.0  0.0  0.0  0.0  0.0  0.0  1.0  ...  0.0  0.0  0.0  0.0   \n",
       "\n",
       "    63   64   65   66   67   68  \n",
       "0  0.0  0.0  0.0  0.0  0.0  0.0  \n",
       "\n",
       "[1 rows x 69 columns]"
      ]
     },
     "execution_count": 17,
     "metadata": {},
     "output_type": "execute_result"
    }
   ],
   "source": [
    "df_list.head(1)"
   ]
  },
  {
   "cell_type": "code",
   "execution_count": 18,
   "metadata": {},
   "outputs": [
    {
     "data": {
      "text/html": [
       "<div>\n",
       "<style scoped>\n",
       "    .dataframe tbody tr th:only-of-type {\n",
       "        vertical-align: middle;\n",
       "    }\n",
       "\n",
       "    .dataframe tbody tr th {\n",
       "        vertical-align: top;\n",
       "    }\n",
       "\n",
       "    .dataframe thead th {\n",
       "        text-align: right;\n",
       "    }\n",
       "</style>\n",
       "<table border=\"1\" class=\"dataframe\">\n",
       "  <thead>\n",
       "    <tr style=\"text-align: right;\">\n",
       "      <th></th>\n",
       "      <th>0</th>\n",
       "      <th>1</th>\n",
       "      <th>2</th>\n",
       "      <th>3</th>\n",
       "      <th>4</th>\n",
       "      <th>5</th>\n",
       "      <th>6</th>\n",
       "      <th>7</th>\n",
       "      <th>8</th>\n",
       "      <th>9</th>\n",
       "      <th>...</th>\n",
       "      <th>26</th>\n",
       "      <th>27</th>\n",
       "      <th>28</th>\n",
       "      <th>29</th>\n",
       "      <th>30</th>\n",
       "      <th>31</th>\n",
       "      <th>32</th>\n",
       "      <th>33</th>\n",
       "      <th>34</th>\n",
       "      <th>35</th>\n",
       "    </tr>\n",
       "  </thead>\n",
       "  <tbody>\n",
       "    <tr>\n",
       "      <th>0</th>\n",
       "      <td>0.0</td>\n",
       "      <td>0.0</td>\n",
       "      <td>0.0</td>\n",
       "      <td>0.0</td>\n",
       "      <td>0.0</td>\n",
       "      <td>0.0</td>\n",
       "      <td>0.0</td>\n",
       "      <td>0.0</td>\n",
       "      <td>0.0</td>\n",
       "      <td>1.0</td>\n",
       "      <td>...</td>\n",
       "      <td>0.0</td>\n",
       "      <td>0.0</td>\n",
       "      <td>0.0</td>\n",
       "      <td>0.0</td>\n",
       "      <td>0.0</td>\n",
       "      <td>0.0</td>\n",
       "      <td>0.0</td>\n",
       "      <td>1.0</td>\n",
       "      <td>0.0</td>\n",
       "      <td>0.0</td>\n",
       "    </tr>\n",
       "  </tbody>\n",
       "</table>\n",
       "<p>1 rows × 36 columns</p>\n",
       "</div>"
      ],
      "text/plain": [
       "    0    1    2    3    4    5    6    7    8    9   ...   26   27   28   29  \\\n",
       "0  0.0  0.0  0.0  0.0  0.0  0.0  0.0  0.0  0.0  1.0  ...  0.0  0.0  0.0  0.0   \n",
       "\n",
       "    30   31   32   33   34   35  \n",
       "0  0.0  0.0  0.0  1.0  0.0  0.0  \n",
       "\n",
       "[1 rows x 36 columns]"
      ]
     },
     "execution_count": 18,
     "metadata": {},
     "output_type": "execute_result"
    }
   ],
   "source": [
    "df_list.loc[:,:35].head(1)"
   ]
  },
  {
   "cell_type": "markdown",
   "metadata": {},
   "source": [
    "Great! This is what we needed. We look at different others randomly picked rows for checking and it confirms that it gives us what we needed to move on to the clustering part."
   ]
  },
  {
   "cell_type": "markdown",
   "metadata": {},
   "source": [
    "## Modelling and evaluation\n",
    "\n",
    "We are ready to start clustering our data. We first create the training array that will be used for the modelling."
   ]
  },
  {
   "cell_type": "code",
   "execution_count": 19,
   "metadata": {},
   "outputs": [],
   "source": [
    "X = df_list.values"
   ]
  },
  {
   "cell_type": "code",
   "execution_count": 20,
   "metadata": {},
   "outputs": [],
   "source": [
    "y = plants"
   ]
  },
  {
   "cell_type": "markdown",
   "metadata": {},
   "source": [
    "Now let's see to what our data look like! We take the 2 first principal components to plot the 2D projection of our data."
   ]
  },
  {
   "cell_type": "code",
   "execution_count": 21,
   "metadata": {},
   "outputs": [
    {
     "data": {
      "text/plain": [
       "<matplotlib.collections.PathCollection at 0x1a219ba438>"
      ]
     },
     "execution_count": 21,
     "metadata": {},
     "output_type": "execute_result"
    },
    {
     "data": {
      "image/png": "[encoded data removed]",
      "text/plain": [
       "<Figure size 432x288 with 1 Axes>"
      ]
     },
     "metadata": {
      "needs_background": "light"
     },
     "output_type": "display_data"
    }
   ],
   "source": [
    "x = PCA(n_components=2).fit_transform(X)\n",
    "plt.scatter(x[:,0], x[:,1])"
   ]
  },
  {
   "cell_type": "markdown",
   "metadata": {},
   "source": [
    "Ok we see, at least **in 2D**, that we have **no visible separation in different groups**, rather we have one big blob with all of our data. But these **groups might be present in the other dimensions** (remember we have 68 of them). We will use first KMeans algorithm to cluster our data, as the results of this algorithm are easily interpretable. But before clustering using KMeans, we need to have an idea of the number of clusters we will group our data into. To do so, we will use the **Elbow method**, which consists of plotting the sum of the squared distance between each member of the cluster and its centroid (WCSS) against the number of clusters. This graph will help us to select the number of clusters where the change in WCSS begins to level off."
   ]
  },
  {
   "cell_type": "code",
   "execution_count": 22,
   "metadata": {},
   "outputs": [
    {
     "data": {
      "image/png": "[encoded data removed]",
      "text/plain": [
       "<Figure size 432x288 with 1 Axes>"
      ]
     },
     "metadata": {
      "needs_background": "light"
     },
     "output_type": "display_data"
    }
   ],
   "source": [
    "from sklearn.cluster import KMeans\n",
    "#code taken from https://towardsdatascience.com/machine-learning-algorithms-part-9-k-means-example-in-python-f2ad05ed5203\n",
    "wcss = []\n",
    "for i in range(1, 10):\n",
    "    kmeans = KMeans(n_clusters=i, init='k-means++', max_iter=300, n_init=10, random_state=0)\n",
    "    kmeans.fit(X)\n",
    "    wcss.append(kmeans.inertia_)\n",
    "plt.plot(range(1, 10), wcss, marker='o')\n",
    "plt.title('Elbow Method')\n",
    "plt.xlabel('Number of clusters')\n",
    "plt.ylabel('WCSS')\n",
    "plt.show()"
   ]
  },
  {
   "cell_type": "markdown",
   "metadata": {},
   "source": [
    "Here 6 seems to be a good number of clusters so let's try this value and visualize the result in 2D."
   ]
  },
  {
   "cell_type": "code",
   "execution_count": 23,
   "metadata": {},
   "outputs": [
    {
     "data": {
      "image/png": "[encoded data removed]",
      "text/plain": [
       "<Figure size 432x288 with 1 Axes>"
      ]
     },
     "metadata": {},
     "output_type": "display_data"
    }
   ],
   "source": [
    "reduced_data = PCA(n_components=2).fit_transform(X)\n",
    "kmeans = KMeans(init='k-means++', n_clusters=6, n_init=10)\n",
    "kmeans.fit(reduced_data)\n",
    "#Code taken from https://scikit-learn.org/stable/auto_examples/cluster/plot_kmeans_digits.html#sphx-glr-auto-examples-cluster-plot-kmeans-digits-py\n",
    "# Step size of the mesh. Decrease to increase the quality of the VQ.\n",
    "h = .02     # point in the mesh [x_min, x_max]x[y_min, y_max].\n",
    "\n",
    "# Plot the decision boundary. For that, we will assign a color to each\n",
    "x_min, x_max = reduced_data[:, 0].min() - 1, reduced_data[:, 0].max() + 1\n",
    "y_min, y_max = reduced_data[:, 1].min() - 1, reduced_data[:, 1].max() + 1\n",
    "xx, yy = np.meshgrid(np.arange(x_min, x_max, h), np.arange(y_min, y_max, h))\n",
    "\n",
    "# Obtain labels for each point in mesh. Use last trained model.\n",
    "Z = kmeans.predict(np.c_[xx.ravel(), yy.ravel()])\n",
    "\n",
    "# Put the result into a color plot\n",
    "Z = Z.reshape(xx.shape)\n",
    "plt.figure(1)\n",
    "plt.clf()\n",
    "plt.imshow(Z, interpolation='nearest',\n",
    "           extent=(xx.min(), xx.max(), yy.min(), yy.max()),\n",
    "           cmap=plt.cm.Paired,\n",
    "           aspect='auto', origin='lower')\n",
    "\n",
    "plt.plot(reduced_data[:, 0], reduced_data[:, 1], 'k.', markersize=2)\n",
    "# Plot the centroids as a white X\n",
    "centroids = kmeans.cluster_centers_\n",
    "plt.scatter(centroids[:, 0], centroids[:, 1],\n",
    "            marker='x', s=169, linewidths=3,\n",
    "            color='w', zorder=10)\n",
    "plt.title('K-means clustering on the USDA Plants dataset (PCA-reduced data)\\n'\n",
    "          'Centroids are marked with white cross')\n",
    "plt.xlim(x_min, x_max)\n",
    "plt.ylim(y_min, y_max)\n",
    "plt.xticks(())\n",
    "plt.yticks(())\n",
    "plt.show()"
   ]
  },
  {
   "cell_type": "markdown",
   "metadata": {},
   "source": [
    "From this, we can't really know if we made the right choice in terms of algorithm and number of clusters. Besides, we used PCA-reduced data, let's see how much of the variance is preserved with 2 principal components."
   ]
  },
  {
   "cell_type": "code",
   "execution_count": 24,
   "metadata": {},
   "outputs": [
    {
     "data": {
      "image/png": "[encoded data removed]",
      "text/plain": [
       "<Figure size 432x288 with 1 Axes>"
      ]
     },
     "metadata": {
      "needs_background": "light"
     },
     "output_type": "display_data"
    }
   ],
   "source": [
    "#Assuming the data are normalized as stated in the dataset description, we apply PCA.\n",
    "pca = PCA().fit(X)\n",
    "#Plotting the Cumulative Summation of the Explained Variance\n",
    "#Idea taken from 'https://towardsdatascience.com/an-approach-to-choosing-the-number-of-components-in-a-principal-component-analysis-pca-3b9f3d6e73fe'\n",
    "plt.figure()\n",
    "plt.plot(np.cumsum(pca.explained_variance_ratio_))\n",
    "plt.xlabel('Number of Components')\n",
    "plt.ylabel('Variance (%)') #for each component\n",
    "plt.title('Plants Dataset Explained Variance')\n",
    "plt.show()"
   ]
  },
  {
   "cell_type": "code",
   "execution_count": 25,
   "metadata": {},
   "outputs": [
    {
     "name": "stdout",
     "output_type": "stream",
     "text": [
      "0.5184059703435955\n"
     ]
    }
   ],
   "source": [
    "pca=PCA(n_components=2).fit(X)\n",
    "print(sum(pca.explained_variance_ratio_))"
   ]
  },
  {
   "cell_type": "markdown",
   "metadata": {},
   "source": [
    "Only 51% of the total variance is preserved. 2 components is really good for visualizing, but a terrible choice for fitting our algorithm to the transformed data given it does not represent our dataset. \n",
    "\n",
    "Let's get back to the problem; we want to cluster plants based on the regions they are found in. A good choice of algorithm could be a **hierarchical agglomerative one**, starting with every data being a cluster then grouping them progressively until we group all of them. Let's plot the dendrogram to assess the number of clusters we should use for this method. The number of lines in the largest vertical distance is the number of clusters we should use. \n",
    "\n",
    "Here we use the **Ward** linkage to compute the distance, which is the sum of squared differences within all clusters."
   ]
  },
  {
   "cell_type": "code",
   "execution_count": 26,
   "metadata": {},
   "outputs": [],
   "source": [
    "from sklearn.cluster import AgglomerativeClustering\n",
    "import scipy.cluster.hierarchy as sch"
   ]
  },
  {
   "cell_type": "code",
   "execution_count": 27,
   "metadata": {},
   "outputs": [],
   "source": [
    "#We take a subset for the visualization parts\n",
    "sample = X[:10000]"
   ]
  },
  {
   "cell_type": "code",
   "execution_count": 28,
   "metadata": {},
   "outputs": [
    {
     "data": {
      "image/png": "[encoded data removed]",
      "text/plain": [
       "<Figure size 432x288 with 1 Axes>"
      ]
     },
     "metadata": {
      "needs_background": "light"
     },
     "output_type": "display_data"
    }
   ],
   "source": [
    "#Will take a while to run\n",
    "dendrogram = sch.dendrogram(sch.linkage(sample, method='ward'))"
   ]
  },
  {
   "cell_type": "markdown",
   "metadata": {},
   "source": [
    "We see that 2 clusters seem to be the good choice. We apply the algorithm based on this choice and visualize the result in 3D to see if we can get more information than the one provided by the 2D representation."
   ]
  },
  {
   "cell_type": "code",
   "execution_count": 29,
   "metadata": {},
   "outputs": [],
   "source": [
    "#Fit the model on the subset for visualization purpose\n",
    "agg = AgglomerativeClustering(n_clusters=2, affinity='euclidean', linkage='ward')\n",
    "agg.fit(sample)\n",
    "labels = agg.labels_"
   ]
  },
  {
   "cell_type": "code",
   "execution_count": 30,
   "metadata": {},
   "outputs": [],
   "source": [
    "#Prepare function to plot our model in 3D on the subset of the data\n",
    "from sklearn.manifold import TSNE\n",
    "from mpl_toolkits.mplot3d import Axes3D\n",
    "from matplotlib.animation import PillowWriter\n",
    "from matplotlib import animation\n",
    "def prepare_tsne(n_components, data, model_labels):\n",
    "    names = ['x', 'y', 'z']\n",
    "    matrix = TSNE(n_components=n_components).fit_transform(data)\n",
    "    df_matrix = pd.DataFrame(matrix)\n",
    "    df_matrix.rename({i:names[i] for i in range(n_components)}, axis=1, inplace=True)\n",
    "    df_matrix['labels'] = model_labels\n",
    "    \n",
    "    return df_matrix\n",
    "    \n",
    "def plot_animation(df, label_column, name):\n",
    "    def update(num):\n",
    "        ax.view_init(200, num)\n",
    "\n",
    "    N=360\n",
    "    fig = plt.figure()\n",
    "    ax = fig.add_subplot(111, projection='3d')\n",
    "    ax.scatter(tsne_3d_df['x'], tsne_3d_df['y'], tsne_3d_df['z'], c=tsne_3d_df[label_column],\n",
    "               s=6, depthshade=True, cmap='Paired')\n",
    "    ax.set_zlim(-15, 25)\n",
    "    ax.set_xlim(-20, 20)\n",
    "    plt.tight_layout()\n",
    "    ani = animation.FuncAnimation(fig, update, N, blit=False, interval=50)\n",
    "    ani.save('{}.gif'.format(name), writer='imagemagick')\n",
    "    plt.show()"
   ]
  },
  {
   "cell_type": "code",
   "execution_count": 31,
   "metadata": {},
   "outputs": [],
   "source": [
    "#Will take a while to run, we create the 3D dataframe projection of our data\n",
    "#Not necessary to run it, as the gif is already created and provided below\n",
    "tsne_3d_df = prepare_tsne(3, sample, agg.labels_)"
   ]
  },
  {
   "cell_type": "code",
   "execution_count": 32,
   "metadata": {},
   "outputs": [
    {
     "name": "stderr",
     "output_type": "stream",
     "text": [
      "MovieWriter imagemagick unavailable; trying to use <class 'matplotlib.animation.PillowWriter'> instead.\n"
     ]
    },
    {
     "data": {
      "image/png": "[encoded data removed]",
      "text/plain": [
       "<Figure size 432x288 with 1 Axes>"
      ]
     },
     "metadata": {
      "needs_background": "light"
     },
     "output_type": "display_data"
    }
   ],
   "source": [
    "plot_animation(tsne_3d_df, 'labels', 'labels_agg')"
   ]
  },
  {
   "cell_type": "markdown",
   "metadata": {},
   "source": [
    "The gif can be found at https://github.com/cwaltregny/USDA_Plants/blob/master/labels_agg.gif. This plot is interesting because we can see that **groups of data are actually present** and can be seen in 3D, which could not be in 2D. Let's apply both our algorithms on the whole data, and not reduced, set and evaluate the models using the **silhouette method**. We don't have ground truth data so this is the metrics we will use **to quantify the quality of clustering achieved**."
   ]
  },
  {
   "cell_type": "code",
   "execution_count": 33,
   "metadata": {},
   "outputs": [
    {
     "data": {
      "text/plain": [
       "KMeans(algorithm='auto', copy_x=True, init='k-means++', max_iter=300,\n",
       "       n_clusters=6, n_init=10, n_jobs=None, precompute_distances='auto',\n",
       "       random_state=0, tol=0.0001, verbose=0)"
      ]
     },
     "execution_count": 33,
     "metadata": {},
     "output_type": "execute_result"
    }
   ],
   "source": [
    "kmeans = KMeans(n_clusters=6, init='k-means++', max_iter=300, n_init=10, random_state=0)\n",
    "kmeans.fit(X)"
   ]
  },
  {
   "cell_type": "code",
   "execution_count": 35,
   "metadata": {},
   "outputs": [
    {
     "data": {
      "text/plain": [
       "AgglomerativeClustering(affinity='euclidean', compute_full_tree='auto',\n",
       "                        connectivity=None, distance_threshold=None,\n",
       "                        linkage='ward', memory=None, n_clusters=2,\n",
       "                        pooling_func='deprecated')"
      ]
     },
     "execution_count": 35,
     "metadata": {},
     "output_type": "execute_result"
    }
   ],
   "source": [
    "#Will take a while to run\n",
    "agg = AgglomerativeClustering(n_clusters=2, affinity='euclidean', linkage='ward')\n",
    "agg.fit(X)"
   ]
  },
  {
   "cell_type": "code",
   "execution_count": 36,
   "metadata": {},
   "outputs": [
    {
     "name": "stdout",
     "output_type": "stream",
     "text": [
      "Agglomerative:  0.4310639117713727\n",
      "KMeans:  0.3329868384289614\n"
     ]
    }
   ],
   "source": [
    "from sklearn import metrics\n",
    "agg_silhouette = metrics.silhouette_score(X, agg.labels_,\n",
    "                                      metric='euclidean',\n",
    "                                      sample_size=len(X))\n",
    "kmeans_silhouette = metrics.silhouette_score(X, kmeans.labels_,\n",
    "                                      metric='euclidean',\n",
    "                                      sample_size=len(X))\n",
    "print('Agglomerative: ', agg_silhouette)\n",
    "print('KMeans: ', kmeans_silhouette)"
   ]
  },
  {
   "cell_type": "markdown",
   "metadata": {},
   "source": [
    "We see that the silhouette score for KMeans is really low. Maybe our choice of number of clusters was wrong; let's plot the evolution of the silhouette score against the number of clusters used."
   ]
  },
  {
   "cell_type": "code",
   "execution_count": 37,
   "metadata": {},
   "outputs": [],
   "source": [
    "#Will take a while to run\n",
    "store_score = []\n",
    "for i in range(2,10):\n",
    "    kmeans = KMeans(n_clusters=i, init='k-means++', max_iter=300, n_init=10, random_state=0)\n",
    "    kmeans.fit(X)\n",
    "    store_score.append(metrics.silhouette_score(X, kmeans.labels_,\n",
    "                                      metric='euclidean',\n",
    "                                      sample_size=len(X)))   "
   ]
  },
  {
   "cell_type": "code",
   "execution_count": 38,
   "metadata": {},
   "outputs": [
    {
     "data": {
      "image/png": "[encoded data removed]",
      "text/plain": [
       "<Figure size 432x288 with 1 Axes>"
      ]
     },
     "metadata": {
      "needs_background": "light"
     },
     "output_type": "display_data"
    }
   ],
   "source": [
    "for i in range(8):\n",
    "    plt.plot(i+2,store_score[i], linestyle='-', marker='o')"
   ]
  },
  {
   "cell_type": "markdown",
   "metadata": {},
   "source": [
    "We see that **2 clusters was actually a much better choice!** Looking back, it is not suprising as it is really where the elbow occurs (see Elbow method plot above). Let's choose this number for the KMeans algorithm and visualize the result in 3D. The gif can be found at https://github.com/cwaltregny/USDA_Plants/blob/master/labels_kmeans.gif (as the computation takes time, we won't do it in the workflow but the code is left at the end of the notebook if necessary). Let's look at the updated silouhette scores. "
   ]
  },
  {
   "cell_type": "code",
   "execution_count": 39,
   "metadata": {},
   "outputs": [],
   "source": [
    "kmeans = KMeans(n_clusters=2, init='k-means++', max_iter=300, n_init=10, random_state=0)\n",
    "kmeans.fit(X)\n",
    "kmeans_silhouette = metrics.silhouette_score(X, kmeans.labels_,\n",
    "                                      metric='euclidean',\n",
    "                                      sample_size=len(X))"
   ]
  },
  {
   "cell_type": "code",
   "execution_count": 40,
   "metadata": {},
   "outputs": [
    {
     "name": "stdout",
     "output_type": "stream",
     "text": [
      "Agglomerative:  0.4310639117713727\n",
      "KMeans:  0.5223190004289854\n"
     ]
    }
   ],
   "source": [
    "print('Agglomerative: ', agg_silhouette)\n",
    "print('KMeans: ', kmeans_silhouette)"
   ]
  },
  {
   "cell_type": "markdown",
   "metadata": {},
   "source": [
    "## Conclusion\n",
    "\n",
    "The goal of this model was to cluster plants based on the North American states they can be found in. We tried 2 algorithms with the optimal number of clusters found; in this case, 2. KMeans seems better at separating our data. Now, what does these 2 clusters actually mean? What do they represent?"
   ]
  },
  {
   "cell_type": "code",
   "execution_count": 41,
   "metadata": {},
   "outputs": [],
   "source": [
    "#We create a dataframe for the interpretation and we add the labels assigned by the kmeans algorithm\n",
    "df_interpret = pd.DataFrame(X)\n",
    "df_interpret['label'] = kmeans.labels_"
   ]
  },
  {
   "cell_type": "code",
   "execution_count": 42,
   "metadata": {},
   "outputs": [
    {
     "data": {
      "text/html": [
       "<div>\n",
       "<style scoped>\n",
       "    .dataframe tbody tr th:only-of-type {\n",
       "        vertical-align: middle;\n",
       "    }\n",
       "\n",
       "    .dataframe tbody tr th {\n",
       "        vertical-align: top;\n",
       "    }\n",
       "\n",
       "    .dataframe thead th {\n",
       "        text-align: right;\n",
       "    }\n",
       "</style>\n",
       "<table border=\"1\" class=\"dataframe\">\n",
       "  <thead>\n",
       "    <tr style=\"text-align: right;\">\n",
       "      <th></th>\n",
       "      <th>0</th>\n",
       "      <th>1</th>\n",
       "      <th>2</th>\n",
       "      <th>3</th>\n",
       "      <th>4</th>\n",
       "      <th>5</th>\n",
       "      <th>6</th>\n",
       "      <th>7</th>\n",
       "      <th>8</th>\n",
       "      <th>9</th>\n",
       "      <th>...</th>\n",
       "      <th>59</th>\n",
       "      <th>60</th>\n",
       "      <th>61</th>\n",
       "      <th>62</th>\n",
       "      <th>63</th>\n",
       "      <th>64</th>\n",
       "      <th>65</th>\n",
       "      <th>66</th>\n",
       "      <th>67</th>\n",
       "      <th>68</th>\n",
       "    </tr>\n",
       "    <tr>\n",
       "      <th>label</th>\n",
       "      <th></th>\n",
       "      <th></th>\n",
       "      <th></th>\n",
       "      <th></th>\n",
       "      <th></th>\n",
       "      <th></th>\n",
       "      <th></th>\n",
       "      <th></th>\n",
       "      <th></th>\n",
       "      <th></th>\n",
       "      <th></th>\n",
       "      <th></th>\n",
       "      <th></th>\n",
       "      <th></th>\n",
       "      <th></th>\n",
       "      <th></th>\n",
       "      <th></th>\n",
       "      <th></th>\n",
       "      <th></th>\n",
       "      <th></th>\n",
       "      <th></th>\n",
       "    </tr>\n",
       "  </thead>\n",
       "  <tbody>\n",
       "    <tr>\n",
       "      <th>0</th>\n",
       "      <td>0.671560</td>\n",
       "      <td>0.243708</td>\n",
       "      <td>0.343960</td>\n",
       "      <td>0.661913</td>\n",
       "      <td>0.432257</td>\n",
       "      <td>0.409396</td>\n",
       "      <td>0.788591</td>\n",
       "      <td>0.667156</td>\n",
       "      <td>0.586200</td>\n",
       "      <td>0.507550</td>\n",
       "      <td>...</td>\n",
       "      <td>0.203859</td>\n",
       "      <td>0.495176</td>\n",
       "      <td>0.083473</td>\n",
       "      <td>0.780831</td>\n",
       "      <td>0.345847</td>\n",
       "      <td>0.634648</td>\n",
       "      <td>0.377936</td>\n",
       "      <td>0.192114</td>\n",
       "      <td>0.082215</td>\n",
       "      <td>0.214346</td>\n",
       "    </tr>\n",
       "    <tr>\n",
       "      <th>1</th>\n",
       "      <td>0.083297</td>\n",
       "      <td>0.060207</td>\n",
       "      <td>0.171192</td>\n",
       "      <td>0.048446</td>\n",
       "      <td>0.320361</td>\n",
       "      <td>0.117049</td>\n",
       "      <td>0.021024</td>\n",
       "      <td>0.014960</td>\n",
       "      <td>0.009496</td>\n",
       "      <td>0.139973</td>\n",
       "      <td>...</td>\n",
       "      <td>0.035051</td>\n",
       "      <td>0.016093</td>\n",
       "      <td>0.019358</td>\n",
       "      <td>0.044814</td>\n",
       "      <td>0.006397</td>\n",
       "      <td>0.041515</td>\n",
       "      <td>0.034785</td>\n",
       "      <td>0.039450</td>\n",
       "      <td>0.002899</td>\n",
       "      <td>0.006264</td>\n",
       "    </tr>\n",
       "  </tbody>\n",
       "</table>\n",
       "<p>2 rows × 69 columns</p>\n",
       "</div>"
      ],
      "text/plain": [
       "             0         1         2         3         4         5         6   \\\n",
       "label                                                                         \n",
       "0      0.671560  0.243708  0.343960  0.661913  0.432257  0.409396  0.788591   \n",
       "1      0.083297  0.060207  0.171192  0.048446  0.320361  0.117049  0.021024   \n",
       "\n",
       "             7         8         9   ...        59        60        61  \\\n",
       "label                                ...                                 \n",
       "0      0.667156  0.586200  0.507550  ...  0.203859  0.495176  0.083473   \n",
       "1      0.014960  0.009496  0.139973  ...  0.035051  0.016093  0.019358   \n",
       "\n",
       "             62        63        64        65        66        67        68  \n",
       "label                                                                        \n",
       "0      0.780831  0.345847  0.634648  0.377936  0.192114  0.082215  0.214346  \n",
       "1      0.044814  0.006397  0.041515  0.034785  0.039450  0.002899  0.006264  \n",
       "\n",
       "[2 rows x 69 columns]"
      ]
     },
     "execution_count": 42,
     "metadata": {},
     "output_type": "execute_result"
    }
   ],
   "source": [
    "#We group our data by the 2 clusters and we take the mean for each variable\n",
    "df_mean=df_interpret.groupby('label').mean()\n",
    "df_mean"
   ]
  },
  {
   "cell_type": "code",
   "execution_count": 43,
   "metadata": {},
   "outputs": [
    {
     "data": {
      "text/plain": [
       "<matplotlib.axes._subplots.AxesSubplot at 0x1a437ee4a8>"
      ]
     },
     "execution_count": 43,
     "metadata": {},
     "output_type": "execute_result"
    },
    {
     "data": {
      "image/png": "[encoded data removed]",
      "text/plain": [
       "<Figure size 432x288 with 1 Axes>"
      ]
     },
     "metadata": {
      "needs_background": "light"
     },
     "output_type": "display_data"
    }
   ],
   "source": [
    "#We create a new dataframe which will store the states number in the column ' Variable' and the corresponding mean in 'Var'\n",
    "#We take the first 7 values of highest mean to see the importance of the features in the clustering algorithm\n",
    "results = pd.DataFrame(columns=['Variable', 'Var'])\n",
    "for column in df_mean.columns[1:]:\n",
    "    results.loc[len(results), :] = [column, np.var(df_mean[column])]\n",
    "selected_columns = list(results.sort_values(\n",
    "        'Var', ascending=False,\n",
    "    ).head(7).Variable.values) + ['label']\n",
    "tidy = df_interpret[selected_columns].melt(id_vars='label')\n",
    "sns.barplot(x='label', y='value', hue='variable', data=tidy)"
   ]
  },
  {
   "cell_type": "code",
   "execution_count": 44,
   "metadata": {},
   "outputs": [
    {
     "name": "stdout",
     "output_type": "stream",
     "text": [
      "pa\n",
      "ny\n",
      "il\n",
      "oh\n",
      "nj\n",
      "va\n",
      "md\n"
     ]
    }
   ],
   "source": [
    "values = list(results.sort_values(\n",
    "        'Var', ascending=False,\n",
    "    ).head(7).Variable.values)\n",
    "for i in values:\n",
    "    print(list(dic.keys())[list(dic.values()).index(i)])"
   ]
  },
  {
   "cell_type": "markdown",
   "metadata": {},
   "source": [
    "Meaning Pennsylvania, New York, Illinois, Ohio, New Jersey, Virginia and Maryland were clustered together in cluster 0. It does make sense, by looking at a map of the US, we see that all these states are close from each other. **Without any knowledge of the distance between the states, our algorithm could deduce it based on the plants location!** Similar plants tend to be found in similar territories which makes sense as well."
   ]
  },
  {
   "cell_type": "markdown",
   "metadata": {},
   "source": [
    "### [Additional code for KMeans 3D visualization]"
   ]
  },
  {
   "cell_type": "code",
   "execution_count": 38,
   "metadata": {},
   "outputs": [
    {
     "data": {
      "text/plain": [
       "KMeans(algorithm='auto', copy_x=True, init='k-means++', max_iter=300,\n",
       "       n_clusters=2, n_init=10, n_jobs=None, precompute_distances='auto',\n",
       "       random_state=0, tol=0.0001, verbose=0)"
      ]
     },
     "execution_count": 38,
     "metadata": {},
     "output_type": "execute_result"
    }
   ],
   "source": [
    "#On subset for visualization purposes \n",
    "kmeans = KMeans(n_clusters=2, init='k-means++', max_iter=300, n_init=10, random_state=0)\n",
    "kmeans.fit(sample)"
   ]
  },
  {
   "cell_type": "code",
   "execution_count": 39,
   "metadata": {},
   "outputs": [],
   "source": [
    "tsne_3d_df_kmeans = prepare_tsne(3, sample, kmeans.labels_)"
   ]
  },
  {
   "cell_type": "code",
   "execution_count": 40,
   "metadata": {},
   "outputs": [
    {
     "name": "stderr",
     "output_type": "stream",
     "text": [
      "MovieWriter imagemagick unavailable; trying to use <class 'matplotlib.animation.PillowWriter'> instead.\n"
     ]
    },
    {
     "data": {
      "image/png": "[encoded data removed]",
      "text/plain": [
       "<Figure size 432x288 with 1 Axes>"
      ]
     },
     "metadata": {
      "needs_background": "light"
     },
     "output_type": "display_data"
    }
   ],
   "source": [
    "plot_animation(tsne_3d_df_kmeans, 'labels', 'labels_kmeans')"
   ]
  }
 ],
 "metadata": {
  "kernelspec": {
   "display_name": "Python 3",
   "language": "python",
   "name": "python3"
  },
  "language_info": {
   "codemirror_mode": {
    "name": "ipython",
    "version": 3
   },
   "file_extension": ".py",
   "mimetype": "text/x-python",
   "name": "python",
   "nbconvert_exporter": "python",
   "pygments_lexer": "ipython3",
   "version": "3.7.3"
  }
 },
 "nbformat": 4,
 "nbformat_minor": 2
}
